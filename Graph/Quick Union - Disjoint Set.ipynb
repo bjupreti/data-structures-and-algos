{
 "cells": [
  {
   "cell_type": "code",
   "execution_count": 24,
   "id": "5f7d5cad",
   "metadata": {},
   "outputs": [],
   "source": [
    "# UnionFind Class\n",
    "class UnionFind:\n",
    "    def __init__(self, size):\n",
    "        self.root = [i for i in range(size)]\n",
    "    \n",
    "    def find(self, x):\n",
    "        while x != self.root[x]:\n",
    "            x = self.root[x]\n",
    "        return x\n",
    "    \n",
    "    def union(self, x, y):\n",
    "        rootX = self.find(x)\n",
    "        rootY = self.find(y)\n",
    "        if rootX != rootY:\n",
    "            self.root[y] = rootX\n",
    "    \n",
    "    def isConnected(self, x, y):\n",
    "        return self.find(x) == self.find(y)\n",
    "    "
   ]
  },
  {
   "cell_type": "code",
   "execution_count": 25,
   "id": "d7e26f7b",
   "metadata": {},
   "outputs": [],
   "source": [
    "# test case\n",
    "uf = UnionFind(10)\n",
    "# 1-2-5-6-7  3-8-9  4\n",
    "uf.union(1,2)\n",
    "uf.union(2,5)\n",
    "uf.union(5,6)\n",
    "uf.union(6,7)\n",
    "\n",
    "uf.union(3,8)\n",
    "uf.union(8,9)"
   ]
  },
  {
   "cell_type": "code",
   "execution_count": 26,
   "id": "334d0a53",
   "metadata": {},
   "outputs": [
    {
     "data": {
      "text/plain": [
       "True"
      ]
     },
     "execution_count": 26,
     "metadata": {},
     "output_type": "execute_result"
    }
   ],
   "source": [
    "uf.isConnected(1,5)"
   ]
  },
  {
   "cell_type": "code",
   "execution_count": 27,
   "id": "25cebcf5",
   "metadata": {},
   "outputs": [
    {
     "data": {
      "text/plain": [
       "True"
      ]
     },
     "execution_count": 27,
     "metadata": {},
     "output_type": "execute_result"
    }
   ],
   "source": [
    "uf.isConnected(5,7)"
   ]
  },
  {
   "cell_type": "code",
   "execution_count": 28,
   "id": "4d846804",
   "metadata": {},
   "outputs": [
    {
     "data": {
      "text/plain": [
       "False"
      ]
     },
     "execution_count": 28,
     "metadata": {},
     "output_type": "execute_result"
    }
   ],
   "source": [
    "uf.isConnected(4,9)"
   ]
  },
  {
   "cell_type": "code",
   "execution_count": 29,
   "id": "bb53d45c",
   "metadata": {},
   "outputs": [],
   "source": [
    "uf.union(4,9)"
   ]
  },
  {
   "cell_type": "code",
   "execution_count": 30,
   "id": "e9f31a4d",
   "metadata": {},
   "outputs": [
    {
     "data": {
      "text/plain": [
       "True"
      ]
     },
     "execution_count": 30,
     "metadata": {},
     "output_type": "execute_result"
    }
   ],
   "source": [
    "uf.isConnected(4,9)"
   ]
  },
  {
   "cell_type": "code",
   "execution_count": null,
   "id": "2b949d31",
   "metadata": {},
   "outputs": [],
   "source": []
  }
 ],
 "metadata": {
  "kernelspec": {
   "display_name": "Python 3",
   "language": "python",
   "name": "python3"
  },
  "language_info": {
   "codemirror_mode": {
    "name": "ipython",
    "version": 3
   },
   "file_extension": ".py",
   "mimetype": "text/x-python",
   "name": "python",
   "nbconvert_exporter": "python",
   "pygments_lexer": "ipython3",
   "version": "3.8.10"
  }
 },
 "nbformat": 4,
 "nbformat_minor": 5
}
