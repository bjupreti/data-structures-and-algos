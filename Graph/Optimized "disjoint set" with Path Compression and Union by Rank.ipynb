{
 "cells": [
  {
   "cell_type": "code",
   "execution_count": 2,
   "id": "11a5f0de",
   "metadata": {},
   "outputs": [],
   "source": [
    "# UnionFind class\n",
    "class UnionFind:\n",
    "    def __init__(self, size):\n",
    "        self.root = [i for i in range(size)]\n",
    "        # Use a rank array to record the height of each vertex, i.e., the \"rank\" of each vertex.\n",
    "        # The initial \"rank\" of each vertext is 1, because each of them is\n",
    "        # a standalone vertex with no connection to other vertices.\n",
    "        self.rank = [1] * size\n",
    "        \n",
    "    # The find function here is the same as that in the disjoint set with path compression.\n",
    "    def find(self, x):\n",
    "        if x == self.root[x]:\n",
    "            return x\n",
    "        self.root[x] = self.find(self.root[x])\n",
    "        return self.root[x]\n",
    "    \n",
    "    # The union function with union by rank\n",
    "    def union(self, x, y):\n",
    "        rootX = self.find(x)\n",
    "        rootY = self.find(y)\n",
    "        if rootX != rootY:\n",
    "            if self.rank[rootX] > self.rank[rootY]:\n",
    "                self.root[rootY] = rootX\n",
    "            elif self.rank[rootX] < self.rank[rootY]:\n",
    "                self.root[rootX] = rootY\n",
    "            else:\n",
    "                self.root[rootY] = rootX\n",
    "                self.rank[rootX] += 1\n",
    "    \n",
    "    def isConnected(self, x, y):\n",
    "        return self.find(x) == self.find(y)"
   ]
  },
  {
   "cell_type": "code",
   "execution_count": 4,
   "id": "e6180260",
   "metadata": {},
   "outputs": [],
   "source": [
    "# Test Case\n",
    "uf = UnionFind(10)\n",
    "# 1-2-5-6-7 3-8-9 4\n",
    "uf.union(1, 2)\n",
    "uf.union(2, 5)\n",
    "uf.union(5, 6)\n",
    "uf.union(6, 7)\n",
    "uf.union(3, 8)\n",
    "uf.union(8, 9)"
   ]
  },
  {
   "cell_type": "code",
   "execution_count": 6,
   "id": "459a6d28",
   "metadata": {},
   "outputs": [
    {
     "data": {
      "text/plain": [
       "True"
      ]
     },
     "execution_count": 6,
     "metadata": {},
     "output_type": "execute_result"
    }
   ],
   "source": [
    "uf.isConnected(1,5)"
   ]
  },
  {
   "cell_type": "code",
   "execution_count": 7,
   "id": "62511d89",
   "metadata": {},
   "outputs": [
    {
     "data": {
      "text/plain": [
       "True"
      ]
     },
     "execution_count": 7,
     "metadata": {},
     "output_type": "execute_result"
    }
   ],
   "source": [
    "uf.isConnected(5,7)"
   ]
  },
  {
   "cell_type": "code",
   "execution_count": 8,
   "id": "cbf721c2",
   "metadata": {},
   "outputs": [
    {
     "data": {
      "text/plain": [
       "False"
      ]
     },
     "execution_count": 8,
     "metadata": {},
     "output_type": "execute_result"
    }
   ],
   "source": [
    "uf.isConnected(4,9)"
   ]
  },
  {
   "cell_type": "code",
   "execution_count": 9,
   "id": "94c9d455",
   "metadata": {},
   "outputs": [],
   "source": [
    "# 1-2-5-6-7 3-8-9-4\n",
    "uf.union(9, 4)"
   ]
  },
  {
   "cell_type": "code",
   "execution_count": 10,
   "id": "6b204d7c",
   "metadata": {},
   "outputs": [
    {
     "data": {
      "text/plain": [
       "True"
      ]
     },
     "execution_count": 10,
     "metadata": {},
     "output_type": "execute_result"
    }
   ],
   "source": [
    "uf.isConnected(4,9)"
   ]
  },
  {
   "cell_type": "code",
   "execution_count": null,
   "id": "1f3201fb",
   "metadata": {},
   "outputs": [],
   "source": []
  }
 ],
 "metadata": {
  "kernelspec": {
   "display_name": "Python 3",
   "language": "python",
   "name": "python3"
  },
  "language_info": {
   "codemirror_mode": {
    "name": "ipython",
    "version": 3
   },
   "file_extension": ".py",
   "mimetype": "text/x-python",
   "name": "python",
   "nbconvert_exporter": "python",
   "pygments_lexer": "ipython3",
   "version": "3.8.10"
  }
 },
 "nbformat": 4,
 "nbformat_minor": 5
}
