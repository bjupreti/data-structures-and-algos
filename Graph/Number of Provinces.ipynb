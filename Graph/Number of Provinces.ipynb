{
 "cells": [
  {
   "cell_type": "code",
   "execution_count": 1,
   "id": "e8e28794",
   "metadata": {},
   "outputs": [],
   "source": [
    "# Leetcode Link: https://leetcode.com/explore/featured/card/graph/618/disjoint-set/3845/"
   ]
  },
  {
   "cell_type": "markdown",
   "id": "501cffff",
   "metadata": {},
   "source": [
    "![](./number_of_provinces.png)"
   ]
  },
  {
   "cell_type": "code",
   "execution_count": null,
   "id": "9576e7e6",
   "metadata": {},
   "outputs": [],
   "source": []
  },
  {
   "cell_type": "code",
   "execution_count": 47,
   "id": "f5999fa5",
   "metadata": {},
   "outputs": [],
   "source": [
    "# Approach 3: \n",
    "class Solution:\n",
    "    def __init__(self, size):\n",
    "        self.provinceCount = size # assuming each city is province\n",
    "        self.root = [i for i in range(size)]\n",
    "    \n",
    "    # finds the root of a node and set root for all parent node recursively (path compression)\n",
    "    def find(self, x):\n",
    "        if x == self.root[x]:\n",
    "            return x\n",
    "        self.root[x] = self.find(self.root[x])\n",
    "        return self.root[x]\n",
    "    \n",
    "    # set the root of a set (without weight)\n",
    "    # to check example of union by weight go to Optimized \"disjoint set\" with Path Compression and Union by Rank.ipynb\n",
    "    def union(self, x, y):\n",
    "        rootX = self.find(x)\n",
    "        rootY = self.find(y)\n",
    "        if rootX != rootY:\n",
    "            self.root[rootY] = rootX # union logic\n",
    "            self.provinceCount -= 1 # reducing provinceCount everytime union is called\n",
    "            \n",
    "    \n",
    "    def findNumberOfProvince(self, cityIsConnected):\n",
    "        for i, outer in enumerate(cityIsConnected):\n",
    "            for j, inner in enumerate(outer):\n",
    "                if cityIsConnected[i][j] == 1 and i != j:\n",
    "                    self.union(i,j)\n",
    "                    \n",
    "        \n",
    "#         return(len(set(self.root)))\n",
    "        return self.provinceCount"
   ]
  },
  {
   "cell_type": "code",
   "execution_count": 48,
   "id": "73b788f7",
   "metadata": {},
   "outputs": [],
   "source": [
    "isConnected1 = [[1,1,0],[1,1,0],[0,0,1]]\n",
    "isConnected2 = [[1,0,0],[0,1,0],[0,0,1]]"
   ]
  },
  {
   "cell_type": "code",
   "execution_count": 49,
   "id": "6790681e",
   "metadata": {},
   "outputs": [],
   "source": [
    "solution = Solution(len(isConnected1))"
   ]
  },
  {
   "cell_type": "code",
   "execution_count": 50,
   "id": "d1ee4be8",
   "metadata": {},
   "outputs": [
    {
     "data": {
      "text/plain": [
       "2"
      ]
     },
     "execution_count": 50,
     "metadata": {},
     "output_type": "execute_result"
    }
   ],
   "source": [
    "solution.findNumberOfProvince(isConnected1)"
   ]
  },
  {
   "cell_type": "code",
   "execution_count": 51,
   "id": "4b245631",
   "metadata": {},
   "outputs": [],
   "source": [
    "solution = Solution(len(isConnected2))"
   ]
  },
  {
   "cell_type": "code",
   "execution_count": 52,
   "id": "d1b8d773",
   "metadata": {},
   "outputs": [
    {
     "data": {
      "text/plain": [
       "3"
      ]
     },
     "execution_count": 52,
     "metadata": {},
     "output_type": "execute_result"
    }
   ],
   "source": [
    "solution.findNumberOfProvince(isConnected2)"
   ]
  },
  {
   "cell_type": "code",
   "execution_count": 58,
   "id": "5bfbe7e8",
   "metadata": {},
   "outputs": [],
   "source": [
    "# Approach 3 Optimized\n",
    "# UnionFind class\n",
    "class UnionFind:\n",
    "    def __init__(self, size):\n",
    "        self.root = [i for i in range(size)]\n",
    "        # Use a rank array to record the height of each vertex, i.e,, the \"rank\" of each vertex\n",
    "        # The initial \"rank\" of each vertex is 1, because each of them is\n",
    "        # a standalone vertex with no connection to other vertices.\n",
    "        self.rank = [1] * size\n",
    "        self.count = size\n",
    "        \n",
    "    # The find function here is the same as that in the disjoint set with path compression.\n",
    "    def find(self, x):\n",
    "        if self.root[x] == x:\n",
    "            return x\n",
    "        self.root[x] = self.find(self.root[x])\n",
    "        return self.root[x]\n",
    "    \n",
    "    # The union function with union by rank (weight)\n",
    "    def union(self, x, y):\n",
    "        rootX = self.find(x)\n",
    "        rootY = self.find(y)\n",
    "        if rootX != rootY:\n",
    "            if self.rank[rootX] > self.rank[rootY]:\n",
    "                self.root[rootY] = rootX\n",
    "            elif self.rank[rootX] < self.rank[rootY]:\n",
    "                self.root[rootX] = rootY\n",
    "            else:\n",
    "                self.root[rootY] = rootX\n",
    "                self.rank[rootX] += 1\n",
    "            \n",
    "            self.count -= 1\n",
    "            \n",
    "    def getCount(self):\n",
    "        return self.count\n",
    "    \n",
    "\n",
    "class Solution:\n",
    "    \n",
    "    def findCircleNum(self, isConnected) -> int:\n",
    "        if not isConnected or len(isConnected) == 0:\n",
    "            return 0\n",
    "        n = len(isConnected)\n",
    "        uf = UnionFind(n)\n",
    "        for row in range(n):\n",
    "            for col in range(n):\n",
    "                if isConnected[row][col] == 1 and row != col:\n",
    "                    uf.union(row, col)\n",
    "        return uf.getCount()\n",
    "                    \n",
    "\n",
    "    \n",
    "        "
   ]
  },
  {
   "cell_type": "code",
   "execution_count": 59,
   "id": "215afc93",
   "metadata": {},
   "outputs": [],
   "source": [
    "isConnected1 = [[1,1,0],[1,1,0],[0,0,1]]\n",
    "isConnected2 = [[1,0,0],[0,1,0],[0,0,1]]"
   ]
  },
  {
   "cell_type": "code",
   "execution_count": 60,
   "id": "377b950f",
   "metadata": {},
   "outputs": [
    {
     "data": {
      "text/plain": [
       "2"
      ]
     },
     "execution_count": 60,
     "metadata": {},
     "output_type": "execute_result"
    }
   ],
   "source": [
    "solution = Solution()\n",
    "solution.findCircleNum(isConnected1)"
   ]
  },
  {
   "cell_type": "code",
   "execution_count": 62,
   "id": "e4761cc5",
   "metadata": {},
   "outputs": [
    {
     "data": {
      "text/plain": [
       "3"
      ]
     },
     "execution_count": 62,
     "metadata": {},
     "output_type": "execute_result"
    }
   ],
   "source": [
    "solution.findCircleNum(isConnected2)"
   ]
  },
  {
   "cell_type": "code",
   "execution_count": null,
   "id": "1979997f",
   "metadata": {},
   "outputs": [],
   "source": []
  }
 ],
 "metadata": {
  "kernelspec": {
   "display_name": "Python 3",
   "language": "python",
   "name": "python3"
  },
  "language_info": {
   "codemirror_mode": {
    "name": "ipython",
    "version": 3
   },
   "file_extension": ".py",
   "mimetype": "text/x-python",
   "name": "python",
   "nbconvert_exporter": "python",
   "pygments_lexer": "ipython3",
   "version": "3.8.10"
  }
 },
 "nbformat": 4,
 "nbformat_minor": 5
}
