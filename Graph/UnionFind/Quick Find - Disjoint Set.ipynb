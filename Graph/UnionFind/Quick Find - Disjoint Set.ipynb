{
 "cells": [
  {
   "cell_type": "code",
   "execution_count": 8,
   "id": "ea2757d5",
   "metadata": {},
   "outputs": [],
   "source": [
    "# UnionFind Class\n",
    "class UnionFind:\n",
    "    def __init__(self, size):\n",
    "        self.root = [i for i in range(size)]\n",
    "        \n",
    "    def find(self, X):\n",
    "        return self.root[X]\n",
    "    \n",
    "    def union(self, X, Y):\n",
    "        rootX = self.root[X]\n",
    "        rootY = self.root[Y]\n",
    "        if rootX != rootY:\n",
    "            for i in self.root:\n",
    "                if self.root[i] == rootY:\n",
    "                    self.root[i] = rootX\n",
    "    \n",
    "    def isConnected(self, x, y):\n",
    "        return self.find(x) == self.find(y)\n"
   ]
  },
  {
   "cell_type": "code",
   "execution_count": 9,
   "id": "f6321768",
   "metadata": {},
   "outputs": [],
   "source": [
    "# Test Case\n",
    "uf = UnionFind(10)\n",
    "# 1-2-5-6-7  3-8-9  4\n",
    "uf.union(1,2)\n",
    "uf.union(2,5)\n",
    "uf.union(5,6)\n",
    "uf.union(6,7)\n",
    "\n",
    "uf.union(3,8)\n",
    "uf.union(8,9)\n",
    "\n"
   ]
  },
  {
   "cell_type": "code",
   "execution_count": 10,
   "id": "d6ffd574",
   "metadata": {},
   "outputs": [
    {
     "data": {
      "text/plain": [
       "True"
      ]
     },
     "execution_count": 10,
     "metadata": {},
     "output_type": "execute_result"
    }
   ],
   "source": [
    "uf.isConnected(1,5)"
   ]
  },
  {
   "cell_type": "code",
   "execution_count": 11,
   "id": "a10ca4b3",
   "metadata": {},
   "outputs": [
    {
     "data": {
      "text/plain": [
       "True"
      ]
     },
     "execution_count": 11,
     "metadata": {},
     "output_type": "execute_result"
    }
   ],
   "source": [
    "uf.isConnected(5,7)"
   ]
  },
  {
   "cell_type": "code",
   "execution_count": 12,
   "id": "73791e72",
   "metadata": {},
   "outputs": [
    {
     "data": {
      "text/plain": [
       "False"
      ]
     },
     "execution_count": 12,
     "metadata": {},
     "output_type": "execute_result"
    }
   ],
   "source": [
    "uf.isConnected(4,9)"
   ]
  },
  {
   "cell_type": "code",
   "execution_count": 13,
   "id": "aa2624cd",
   "metadata": {},
   "outputs": [],
   "source": [
    "# 1-2-5-6-7  3-8-9-4\n",
    "uf.union(9,4)"
   ]
  },
  {
   "cell_type": "code",
   "execution_count": 14,
   "id": "e5bf8102",
   "metadata": {},
   "outputs": [
    {
     "data": {
      "text/plain": [
       "True"
      ]
     },
     "execution_count": 14,
     "metadata": {},
     "output_type": "execute_result"
    }
   ],
   "source": [
    "uf.isConnected(4,9)"
   ]
  },
  {
   "cell_type": "code",
   "execution_count": null,
   "id": "723eb99c",
   "metadata": {},
   "outputs": [],
   "source": []
  }
 ],
 "metadata": {
  "kernelspec": {
   "display_name": "Python 3",
   "language": "python",
   "name": "python3"
  },
  "language_info": {
   "codemirror_mode": {
    "name": "ipython",
    "version": 3
   },
   "file_extension": ".py",
   "mimetype": "text/x-python",
   "name": "python",
   "nbconvert_exporter": "python",
   "pygments_lexer": "ipython3",
   "version": "3.8.10"
  }
 },
 "nbformat": 4,
 "nbformat_minor": 5
}
