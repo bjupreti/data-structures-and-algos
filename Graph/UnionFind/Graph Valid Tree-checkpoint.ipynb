{
 "cells": [
  {
   "cell_type": "code",
   "execution_count": 1,
   "id": "63201434",
   "metadata": {},
   "outputs": [],
   "source": [
    "# Leetcode link: https://leetcode.com/explore/featured/card/graph/618/disjoint-set/3846/"
   ]
  },
  {
   "cell_type": "markdown",
   "id": "5215e778",
   "metadata": {},
   "source": [
    "![](./graph_valid_tree.png)"
   ]
  },
  {
   "cell_type": "code",
   "execution_count": 9,
   "id": "73c231e4",
   "metadata": {},
   "outputs": [],
   "source": [
    "# Approach 3 Optimized\n",
    "# UnionFind class\n",
    "class UnionFind:\n",
    "    def __init__(self, size):\n",
    "        self.root = [i for i in range(size)]\n",
    "        # Use a rank array to record the height of each vertex, i.e,, the \"rank\" of each vertex\n",
    "        # The initial \"rank\" of each vertex is 1, because each of them is\n",
    "        # a standalone vertex with no connection to other vertices.\n",
    "        self.rank = [1] * size\n",
    "        \n",
    "    # The find function here is the same as that in the disjoint set with path compression.\n",
    "    def find(self, x):\n",
    "        if self.root[x] == x:\n",
    "            return x\n",
    "        self.root[x] = self.find(self.root[x])\n",
    "        return self.root[x]\n",
    "    \n",
    "    # The union function with union by rank (weight)\n",
    "    # It returns True if a union happened, False otherwise.\n",
    "    def union(self, x, y):\n",
    "        rootX = self.find(x)\n",
    "        rootY = self.find(y)\n",
    "        if rootX != rootY:\n",
    "            if self.rank[rootX] > self.rank[rootY]:\n",
    "                self.root[rootY] = rootX\n",
    "            elif self.rank[rootX] < self.rank[rootY]:\n",
    "                self.root[rootX] = rootY\n",
    "            else:\n",
    "                self.root[rootY] = rootX\n",
    "                self.rank[rootX] += 1\n",
    "            \n",
    "            return True\n",
    " "
   ]
  },
  {
   "cell_type": "code",
   "execution_count": 12,
   "id": "02026258",
   "metadata": {},
   "outputs": [],
   "source": [
    "class Solution:\n",
    "    def validTree(self, n: int, edges) -> bool:\n",
    "        # condition 1: The graph must contain n - 1 edges.\n",
    "        if len(edges) != n - 1: return False\n",
    "        \n",
    "        # Create a new UnionFind object with n nodes\n",
    "        uf = UnionFind(n)\n",
    "        \n",
    "        # Add each edge. Check if  a merge happened, because if it didn't there must be a cycle.\n",
    "        for A, B in edges:\n",
    "            if not uf.union(A,B):\n",
    "                return False\n",
    "        \n",
    "        return True\n",
    "                "
   ]
  },
  {
   "cell_type": "code",
   "execution_count": 14,
   "id": "cd9f5931",
   "metadata": {},
   "outputs": [],
   "source": [
    "solution = Solution()"
   ]
  },
  {
   "cell_type": "code",
   "execution_count": 19,
   "id": "30e37413",
   "metadata": {},
   "outputs": [
    {
     "data": {
      "text/plain": [
       "True"
      ]
     },
     "execution_count": 19,
     "metadata": {},
     "output_type": "execute_result"
    }
   ],
   "source": [
    "n = 5\n",
    "edges = [[0,1],[0,2],[0,3],[1,4]]\n",
    "solution.validTree(n, edges)"
   ]
  },
  {
   "cell_type": "code",
   "execution_count": null,
   "id": "3482f0e4",
   "metadata": {},
   "outputs": [],
   "source": []
  }
 ],
 "metadata": {
  "kernelspec": {
   "display_name": "Python 3",
   "language": "python",
   "name": "python3"
  },
  "language_info": {
   "codemirror_mode": {
    "name": "ipython",
    "version": 3
   },
   "file_extension": ".py",
   "mimetype": "text/x-python",
   "name": "python",
   "nbconvert_exporter": "python",
   "pygments_lexer": "ipython3",
   "version": "3.8.10"
  }
 },
 "nbformat": 4,
 "nbformat_minor": 5
}
