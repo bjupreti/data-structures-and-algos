{
 "cells": [
  {
   "cell_type": "code",
   "execution_count": 15,
   "id": "03e82b05",
   "metadata": {},
   "outputs": [],
   "source": [
    "# UnionFind Class\n",
    "class UnionFind:\n",
    "    def __init__(self, size):\n",
    "        self.root = [i for i in range(size)]\n",
    "        self.rank = [1] * size\n",
    "        \n",
    "    def find(self, x):\n",
    "        while x != self.root[x]:\n",
    "            x = self.root[x]\n",
    "        return x\n",
    "    \n",
    "    def union(self, x, y):\n",
    "        rootX = self.find(x)\n",
    "        rootY = self.find(y)\n",
    "        if rootX !=  rootY:\n",
    "            if self.rank[rootX] > self.rank[rootY]:\n",
    "                self.root[rootY] = rootX\n",
    "            elif self.rank[rootX] < self.rank[rootY]:\n",
    "                self.root[rootX] = rootY\n",
    "            else:\n",
    "                self.root[rootY] = rootX\n",
    "                self.rank[rootX] += 1\n",
    "    \n",
    "    def isConnected(self, x, y):\n",
    "        return self.find(x) == self.find(y)"
   ]
  },
  {
   "cell_type": "code",
   "execution_count": 16,
   "id": "d5439fde",
   "metadata": {},
   "outputs": [],
   "source": [
    "# Test Case\n",
    "uf = UnionFind(10)\n",
    "# 1-2-5-6-7 3-8-9 4\n",
    "uf.union(1, 2)\n",
    "uf.union(2, 5)\n",
    "uf.union(5, 6)\n",
    "uf.union(6, 7)\n",
    "uf.union(3, 8)\n",
    "uf.union(8, 9)"
   ]
  },
  {
   "cell_type": "code",
   "execution_count": 17,
   "id": "2848801d",
   "metadata": {},
   "outputs": [
    {
     "data": {
      "text/plain": [
       "True"
      ]
     },
     "execution_count": 17,
     "metadata": {},
     "output_type": "execute_result"
    }
   ],
   "source": [
    "uf.isConnected(1,5)"
   ]
  },
  {
   "cell_type": "code",
   "execution_count": 18,
   "id": "1ab43048",
   "metadata": {},
   "outputs": [
    {
     "data": {
      "text/plain": [
       "True"
      ]
     },
     "execution_count": 18,
     "metadata": {},
     "output_type": "execute_result"
    }
   ],
   "source": [
    "uf.isConnected(5,7)"
   ]
  },
  {
   "cell_type": "code",
   "execution_count": 19,
   "id": "105da518",
   "metadata": {},
   "outputs": [
    {
     "data": {
      "text/plain": [
       "False"
      ]
     },
     "execution_count": 19,
     "metadata": {},
     "output_type": "execute_result"
    }
   ],
   "source": [
    "uf.isConnected(4,9)"
   ]
  },
  {
   "cell_type": "code",
   "execution_count": 20,
   "id": "8498f3e9",
   "metadata": {},
   "outputs": [],
   "source": [
    "uf.union(4,9)"
   ]
  },
  {
   "cell_type": "code",
   "execution_count": 21,
   "id": "11c98592",
   "metadata": {},
   "outputs": [
    {
     "data": {
      "text/plain": [
       "True"
      ]
     },
     "execution_count": 21,
     "metadata": {},
     "output_type": "execute_result"
    }
   ],
   "source": [
    "uf.isConnected(4,9)"
   ]
  },
  {
   "cell_type": "code",
   "execution_count": null,
   "id": "272164d9",
   "metadata": {},
   "outputs": [],
   "source": []
  }
 ],
 "metadata": {
  "kernelspec": {
   "display_name": "Python 3",
   "language": "python",
   "name": "python3"
  },
  "language_info": {
   "codemirror_mode": {
    "name": "ipython",
    "version": 3
   },
   "file_extension": ".py",
   "mimetype": "text/x-python",
   "name": "python",
   "nbconvert_exporter": "python",
   "pygments_lexer": "ipython3",
   "version": "3.8.10"
  }
 },
 "nbformat": 4,
 "nbformat_minor": 5
}
