{
 "cells": [
  {
   "cell_type": "code",
   "execution_count": 35,
   "metadata": {},
   "outputs": [],
   "source": [
    "import numpy as np\n",
    "import time\n",
    "\n",
    "def time_ms():\n",
    "    return time.time() * 1000\n",
    "    \n",
    "def calc_run_time(func, params):\n",
    "    start = time_ms()\n",
    "    func(params)\n",
    "    end = time_ms()\n",
    "    print('time_taken_in_ms: ', end - start)\n",
    "    \n",
    "def check_if_prime(num):\n",
    "    for i in range(2,num):\n",
    "        if num % i == 0:\n",
    "            return False\n",
    "    return True\n",
    "\n",
    "# program to print first n(default 10) prime number\n",
    "def get_n_prime_numbers(n = 10):\n",
    "    prime_numbers = []\n",
    "    i = 2\n",
    "    while len(prime_numbers) != n:\n",
    "        if check_if_prime(i):\n",
    "            prime_numbers.append(i)\n",
    "        i+=1\n",
    "    return prime_numbers\n",
    "\n",
    "def find_index_linear(params):\n",
    "    counter = 0\n",
    "    for index, val in enumerate(prime_numbers):\n",
    "        counter = counter + 1\n",
    "        if val == params['num']:\n",
    "            print({\"index\": index, \"value\": val, \"counter\": counter})\n",
    "            return {\"index\": index, \"value\": val, \"counter\": counter}\n",
    "    return 'Number not found - Linear'\n",
    "\n",
    "def find_index_binary(params):\n",
    "    counter = 0\n",
    "    min = 0\n",
    "    max = params['array_length']\n",
    "    index = None\n",
    "    while index == None:\n",
    "        counter = counter + 1\n",
    "        mid_index = int(np.round((min + max) / 2))\n",
    "        if prime_numbers[mid_index] == params['num']:\n",
    "            index = mid_index\n",
    "            print({\"index\": index, \"value\": prime_numbers[index], \"counter\": counter})\n",
    "            return {\"index\": index, \"value\": prime_numbers[index], \"counter\": counter}\n",
    "        elif prime_numbers[mid_index] < params['num']:\n",
    "            min = mid_index\n",
    "        else: # prime_numbers[mid_index] > params['num']\n",
    "            max = mid_index\n",
    "        # catch number not found\n",
    "        if counter > max:\n",
    "            return 'Number not found - Binary'\n"
   ]
  },
  {
   "cell_type": "code",
   "execution_count": 36,
   "metadata": {},
   "outputs": [
    {
     "name": "stdout",
     "output_type": "stream",
     "text": [
      "[2, 3, 5, 7, 11, 13, 17, 19, 23, 29]\n",
      "{'index': 2, 'value': 5, 'counter': 3}\n",
      "time_taken_in_ms:  0.0\n",
      "{'index': 2, 'value': 5, 'counter': 2}\n",
      "time_taken_in_ms:  0.0\n"
     ]
    }
   ],
   "source": [
    "find_index_of_number = 5\n",
    "\n",
    "prime_numbers = get_n_prime_numbers(10)\n",
    "print(prime_numbers)\n",
    "\n",
    "# now find index of one of the prime numbers using both linear and binary search algorithm\n",
    "calc_run_time(find_index_linear, {\"num\": find_index_of_number})\n",
    "\n",
    "calc_run_time(find_index_binary, {\"num\": find_index_of_number, \"array_length\": len(prime_numbers)})"
   ]
  },
  {
   "cell_type": "code",
   "execution_count": 30,
   "metadata": {},
   "outputs": [
    {
     "name": "stdout",
     "output_type": "stream",
     "text": [
      "{'index': 2432, 'value': 21673, 'counter': 2433}\n",
      "time_taken_in_ms:  0.0\n",
      "{'index': 2432, 'value': 21673, 'counter': 8}\n",
      "time_taken_in_ms:  0.0\n"
     ]
    }
   ],
   "source": [
    "find_index_of_number = 21673\n",
    "\n",
    "prime_numbers = get_n_prime_numbers(2500)\n",
    "# print(prime_numbers)\n",
    "\n",
    "# now find index of one of the prime numbers using both linear and binary search algorithm\n",
    "calc_run_time(find_index_linear, {\"num\": find_index_of_number})\n",
    "\n",
    "calc_run_time(find_index_binary, {\"num\": find_index_of_number, \"array_length\": len(prime_numbers)})"
   ]
  },
  {
   "cell_type": "code",
   "execution_count": 31,
   "metadata": {},
   "outputs": [
    {
     "name": "stdout",
     "output_type": "stream",
     "text": [
      "{'index': 4870, 'value': 47237, 'counter': 4871}\n",
      "time_taken_in_ms:  0.0\n",
      "{'index': 4870, 'value': 47237, 'counter': 12}\n",
      "time_taken_in_ms:  0.0\n"
     ]
    }
   ],
   "source": [
    "find_index_of_number = 47237\n",
    "\n",
    "prime_numbers = get_n_prime_numbers(5000)\n",
    "# print(prime_numbers)\n",
    "\n",
    "# # now find index of one of the prime numbers using both linear and binary search algorithm\n",
    "calc_run_time(find_index_linear, {\"num\": find_index_of_number})\n",
    "\n",
    "calc_run_time(find_index_binary, {\"num\": find_index_of_number, \"array_length\": len(prime_numbers)})"
   ]
  },
  {
   "cell_type": "code",
   "execution_count": 33,
   "metadata": {},
   "outputs": [
    {
     "name": "stdout",
     "output_type": "stream",
     "text": [
      "{'index': 888888, 'value': 888888, 'counter': 888889}\n",
      "time_taken_in_ms:  147.779541015625\n",
      "{'index': 888888, 'value': 888888, 'counter': 19}\n",
      "time_taken_in_ms:  0.0\n"
     ]
    }
   ],
   "source": [
    "# Since the length of array was minimal we didn't see much difference in time. \n",
    "# Now let us have some fun by increasing the length of array.\n",
    "find_index_of_number = 888888\n",
    "\n",
    "prime_numbers = list(range(1000000)) # million\n",
    "# print(prime_numbers)\n",
    "\n",
    "# now find index of one of the prime numbers using both linear and binary search algorithm\n",
    "calc_run_time(find_index_linear, {\"num\": find_index_of_number})\n",
    "\n",
    "calc_run_time(find_index_binary, {\"num\": find_index_of_number, \"array_length\": len(prime_numbers)})"
   ]
  },
  {
   "cell_type": "code",
   "execution_count": 34,
   "metadata": {},
   "outputs": [
    {
     "name": "stdout",
     "output_type": "stream",
     "text": [
      "{'index': 888888, 'value': 888888, 'counter': 888889}\n",
      "time_taken_in_ms:  125.749755859375\n",
      "{'index': 888888, 'value': 888888, 'counter': 22}\n",
      "time_taken_in_ms:  0.0\n"
     ]
    }
   ],
   "source": [
    "# Since the length of array was minimal we didn't see much difference in time. \n",
    "# Now let us have some fun by increasing the length of array.\n",
    "find_index_of_number = 888888\n",
    "\n",
    "prime_numbers = list(range(10000000)) # ten million\n",
    "# print(prime_numbers)\n",
    "\n",
    "# now find index of one of the prime numbers using both linear and binary search algorithm\n",
    "calc_run_time(find_index_linear, {\"num\": find_index_of_number})\n",
    "\n",
    "calc_run_time(find_index_binary, {\"num\": find_index_of_number, \"array_length\": len(prime_numbers)})"
   ]
  }
 ],
 "metadata": {
  "kernelspec": {
   "display_name": "Python 3",
   "language": "python",
   "name": "python3"
  },
  "language_info": {
   "codemirror_mode": {
    "name": "ipython",
    "version": 3
   },
   "file_extension": ".py",
   "mimetype": "text/x-python",
   "name": "python",
   "nbconvert_exporter": "python",
   "pygments_lexer": "ipython3",
   "version": "3.8.5"
  }
 },
 "nbformat": 4,
 "nbformat_minor": 4
}
