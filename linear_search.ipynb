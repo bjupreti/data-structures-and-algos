{
 "cells": [
  {
   "cell_type": "code",
   "execution_count": 2,
   "metadata": {},
   "outputs": [],
   "source": [
    "def linear_search(list, target):\n",
    "    \"\"\"\n",
    "    Returns the index position of target if found, else returns None\n",
    "    \"\"\"\n",
    "    for i in range(0, len(list)):\n",
    "        if list[i] == target:\n",
    "            return i\n",
    "    return None"
   ]
  },
  {
   "cell_type": "code",
   "execution_count": 11,
   "metadata": {},
   "outputs": [
    {
     "name": "stdout",
     "output_type": "stream",
     "text": [
      "Target not found in list\n",
      "Target found at index 5\n"
     ]
    }
   ],
   "source": [
    "def verify(index):\n",
    "    if index is not None:\n",
    "        print(\"Target found at index\", index)\n",
    "    else:\n",
    "        print(\"Target not found in list\")\n",
    "\n",
    "numbers = list(range(1, 11))\n",
    "\n",
    "result = linear_search(numbers, 12)\n",
    "verify(result)\n",
    "\n",
    "result = linear_search(numbers, 6)\n",
    "verify(result)"
   ]
  }
 ],
 "metadata": {
  "kernelspec": {
   "display_name": "Python 3",
   "language": "python",
   "name": "python3"
  },
  "language_info": {
   "codemirror_mode": {
    "name": "ipython",
    "version": 3
   },
   "file_extension": ".py",
   "mimetype": "text/x-python",
   "name": "python",
   "nbconvert_exporter": "python",
   "pygments_lexer": "ipython3",
   "version": "3.8.5"
  }
 },
 "nbformat": 4,
 "nbformat_minor": 4
}
