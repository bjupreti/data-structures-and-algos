{
 "cells": [
  {
   "cell_type": "code",
   "execution_count": 10,
   "metadata": {},
   "outputs": [],
   "source": [
    "def binary_search(list, target):\n",
    "    first = 0\n",
    "    last = len(list) - 1\n",
    "    while first <= last:\n",
    "        midpoint = (first + last) // 2\n",
    "        if list[midpoint] == target:\n",
    "            return midpoint # best case scenario\n",
    "        elif list[midpoint] < target:\n",
    "            first = midpoint + 1\n",
    "#         elif list[midpoint] > target:\n",
    "        else:\n",
    "            last = midpoint - 1 \n",
    "    return None\n",
    "\n",
    "binary_search(list(range(0,6)), 12)"
   ]
  },
  {
   "cell_type": "code",
   "execution_count": 11,
   "metadata": {},
   "outputs": [
    {
     "name": "stdout",
     "output_type": "stream",
     "text": [
      "Target not found in list\n",
      "Target found at index 5\n"
     ]
    }
   ],
   "source": [
    "def verify(index):\n",
    "    if index is not None:\n",
    "        print(\"Target found at index\", index)\n",
    "    else:\n",
    "        print(\"Target not found in list\")\n",
    "\n",
    "numbers = list(range(1, 11))\n",
    "\n",
    "result = binary_search(numbers, 12)\n",
    "verify(result)\n",
    "\n",
    "result = binary_search(numbers, 6)\n",
    "verify(result)"
   ]
  }
 ],
 "metadata": {
  "kernelspec": {
   "display_name": "Python 3",
   "language": "python",
   "name": "python3"
  },
  "language_info": {
   "codemirror_mode": {
    "name": "ipython",
    "version": 3
   },
   "file_extension": ".py",
   "mimetype": "text/x-python",
   "name": "python",
   "nbconvert_exporter": "python",
   "pygments_lexer": "ipython3",
   "version": "3.8.5"
  }
 },
 "nbformat": 4,
 "nbformat_minor": 4
}
