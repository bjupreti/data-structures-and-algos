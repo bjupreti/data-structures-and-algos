{
 "cells": [
  {
   "cell_type": "code",
   "execution_count": 2,
   "metadata": {},
   "outputs": [],
   "source": [
    "def recursive_binary_search(list, target):\n",
    "    \"\"\"\n",
    "    Returns True if found, else returns False\n",
    "    \"\"\"\n",
    "    if len(list) == 0:\n",
    "        return False\n",
    "    else:\n",
    "        midpoint = (len(list)) // 2\n",
    "        \n",
    "        if list[midpoint] == target:\n",
    "            return True\n",
    "        else:\n",
    "            if list[midpoint] < target:\n",
    "                return recursive_binary_search(list[midpoint+1:], target)\n",
    "            else:\n",
    "                return recursive_binary_search(list[:midpoint], target)\n",
    "        "
   ]
  },
  {
   "cell_type": "code",
   "execution_count": 9,
   "metadata": {},
   "outputs": [
    {
     "name": "stdout",
     "output_type": "stream",
     "text": [
      "Target found:  False\n",
      "Target found:  True\n",
      "Target found:  True\n",
      "Target found:  True\n"
     ]
    }
   ],
   "source": [
    "def verify(result):\n",
    "    print(\"Target found: \", result)\n",
    "\n",
    "numbers = list(range(0,11))\n",
    "result = recursive_binary_search(numbers, 12)\n",
    "verify(result)\n",
    "result = recursive_binary_search(numbers, 6)\n",
    "verify(result)\n",
    "result = recursive_binary_search(numbers, 10)\n",
    "verify(result)\n",
    "result = recursive_binary_search(numbers, 0)\n",
    "verify(result)"
   ]
  }
 ],
 "metadata": {
  "kernelspec": {
   "display_name": "Python 3",
   "language": "python",
   "name": "python3"
  },
  "language_info": {
   "codemirror_mode": {
    "name": "ipython",
    "version": 3
   },
   "file_extension": ".py",
   "mimetype": "text/x-python",
   "name": "python",
   "nbconvert_exporter": "python",
   "pygments_lexer": "ipython3",
   "version": "3.8.5"
  }
 },
 "nbformat": 4,
 "nbformat_minor": 4
}
